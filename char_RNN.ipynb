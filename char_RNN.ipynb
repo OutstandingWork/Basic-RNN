{
 "cells": [
  {
   "cell_type": "code",
   "execution_count": 12,
   "metadata": {},
   "outputs": [],
   "source": [
    "import tensorflow as tf\n",
    "shakespeare_url = \"https://homl.info/shakespeare\" # shortcut URL\n",
    "filepath = tf.keras.utils.get_file(\"shakespeare.txt\", shakespeare_url)\n",
    "with open(filepath) as f:\n",
    "     shakespeare_text = f.read()"
   ]
  },
  {
   "cell_type": "code",
   "execution_count": 13,
   "metadata": {},
   "outputs": [
    {
     "name": "stdout",
     "output_type": "stream",
     "text": [
      "Token:  , Index: 1\n",
      "Token: e, Index: 2\n",
      "Token: t, Index: 3\n",
      "Token: o, Index: 4\n",
      "Token: a, Index: 5\n",
      "Token: i, Index: 6\n",
      "Token: h, Index: 7\n",
      "Token: s, Index: 8\n",
      "Token: r, Index: 9\n",
      "Token: n, Index: 10\n",
      "Token: \n",
      ", Index: 11\n",
      "Token: l, Index: 12\n",
      "Token: d, Index: 13\n",
      "Token: u, Index: 14\n",
      "Token: m, Index: 15\n",
      "Token: y, Index: 16\n",
      "Token: w, Index: 17\n",
      "Token: ,, Index: 18\n",
      "Token: c, Index: 19\n",
      "Token: f, Index: 20\n",
      "Token: g, Index: 21\n",
      "Token: b, Index: 22\n",
      "Token: p, Index: 23\n",
      "Token: :, Index: 24\n",
      "Token: k, Index: 25\n",
      "Token: v, Index: 26\n",
      "Token: ., Index: 27\n",
      "Token: ', Index: 28\n",
      "Token: ;, Index: 29\n",
      "Token: ?, Index: 30\n",
      "Token: !, Index: 31\n",
      "Token: -, Index: 32\n",
      "Token: j, Index: 33\n",
      "Token: q, Index: 34\n",
      "Token: x, Index: 35\n",
      "Token: z, Index: 36\n",
      "Token: 3, Index: 37\n",
      "Token: &, Index: 38\n",
      "Token: $, Index: 39\n"
     ]
    }
   ],
   "source": [
    "tokenizer = tf.keras.preprocessing.text.Tokenizer(char_level=True)\n",
    "tokenizer.fit_on_texts([shakespeare_text])\n",
    "\n",
    "# Print each token along with its index\n",
    "for token, index in tokenizer.word_index.items():\n",
    "    print(f\"Token: {token}, Index: {index}\")"
   ]
  },
  {
   "cell_type": "code",
   "execution_count": 14,
   "metadata": {},
   "outputs": [
    {
     "name": "stdout",
     "output_type": "stream",
     "text": [
      "1115394\n"
     ]
    }
   ],
   "source": [
    "max_id = len(tokenizer.word_index)\n",
    "dataset_size = len(tokenizer.texts_to_sequences([shakespeare_text])[0])\n",
    "print(dataset_size)"
   ]
  },
  {
   "cell_type": "code",
   "execution_count": 15,
   "metadata": {},
   "outputs": [],
   "source": [
    "import numpy as np\n",
    "[encoded] = np.array(tokenizer.texts_to_sequences([shakespeare_text])) - 1"
   ]
  },
  {
   "cell_type": "code",
   "execution_count": 16,
   "metadata": {},
   "outputs": [
    {
     "name": "stdout",
     "output_type": "stream",
     "text": [
      "1003854\n"
     ]
    }
   ],
   "source": [
    "train_size = dataset_size * 90 // 100\n",
    "dataset = tf.data.Dataset.from_tensor_slices(encoded[:train_size])\n",
    "print(train_size)"
   ]
  },
  {
   "cell_type": "code",
   "execution_count": 17,
   "metadata": {},
   "outputs": [],
   "source": [
    "n_steps = 100\n",
    "window_length = n_steps + 1 # target = input shifted 1 character ahead\n",
    "dataset = dataset.window(window_length, shift=1, drop_remainder=True)"
   ]
  },
  {
   "cell_type": "code",
   "execution_count": 18,
   "metadata": {},
   "outputs": [],
   "source": [
    "dataset = dataset.flat_map(lambda window: window.batch(window_length))"
   ]
  },
  {
   "cell_type": "code",
   "execution_count": 19,
   "metadata": {},
   "outputs": [],
   "source": [
    "batch_size = 32\n",
    "dataset = dataset.shuffle(10000).batch(batch_size)\n",
    "dataset = dataset.map(lambda windows: (windows[:, :-1], windows[:, 1:]))"
   ]
  },
  {
   "cell_type": "code",
   "execution_count": 20,
   "metadata": {},
   "outputs": [],
   "source": [
    "dataset = dataset.map(\n",
    " lambda X_batch, Y_batch: (tf.one_hot(X_batch, depth=max_id), Y_batch))\n",
    "dataset = dataset.prefetch(1)"
   ]
  },
  {
   "cell_type": "code",
   "execution_count": 21,
   "metadata": {},
   "outputs": [],
   "source": [
    "model = tf.keras.models.Sequential([\n",
    " tf.keras.layers.GRU(128, return_sequences=True, input_shape=[None, max_id],\n",
    " dropout=0.2, recurrent_dropout=0.2),\n",
    " tf.keras.layers.GRU(128, return_sequences=True,\n",
    " dropout=0.2, recurrent_dropout=0.2),\n",
    " tf.keras.layers.Dense(max_id,\n",
    " activation=\"softmax\")\n",
    " ])\n",
    "model.compile(loss=\"sparse_categorical_crossentropy\", optimizer=\"adam\")\n",
    "history = model.fit(dataset, epochs=20)"
   ]
  }
 ],
 "metadata": {
  "kernelspec": {
   "display_name": "Python 3",
   "language": "python",
   "name": "python3"
  },
  "language_info": {
   "codemirror_mode": {
    "name": "ipython",
    "version": 3
   },
   "file_extension": ".py",
   "mimetype": "text/x-python",
   "name": "python",
   "nbconvert_exporter": "python",
   "pygments_lexer": "ipython3",
   "version": "3.12.3"
  }
 },
 "nbformat": 4,
 "nbformat_minor": 2
}
